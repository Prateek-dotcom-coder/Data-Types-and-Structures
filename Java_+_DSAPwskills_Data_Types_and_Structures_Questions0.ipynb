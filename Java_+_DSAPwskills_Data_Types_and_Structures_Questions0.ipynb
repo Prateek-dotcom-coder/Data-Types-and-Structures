{
  "nbformat": 4,
  "nbformat_minor": 0,
  "metadata": {
    "colab": {
      "provenance": []
    },
    "kernelspec": {
      "name": "python3",
      "display_name": "Python 3"
    },
    "language_info": {
      "name": "python"
    }
  },
  "cells": [
    {
      "cell_type": "markdown",
      "source": [],
      "metadata": {
        "id": "agJY7hmOIYSZ"
      }
    },
    {
      "cell_type": "markdown",
      "source": [
        "# Data Types and Structures Questions"
      ],
      "metadata": {
        "id": "RTxOvMgcIby-"
      }
    },
    {
      "cell_type": "markdown",
      "source": [],
      "metadata": {
        "id": "WyBZI_eYIWKn"
      }
    },
    {
      "cell_type": "markdown",
      "source": [
        "1- P What are data structures, and why are they important?\n",
        "\n",
        "Ans >  A data structure is a specific way of organizing and storing data in a computer system, allowing for efficient access and manipulation of information, making it crucial for writing effective and optimized code by providing a structured method to manage data for various operations like searching, sorting, and insertion.\n",
        "\n",
        "\n",
        "Why are data structures important?\n",
        "\n",
        "Improved code performance:\n",
        "\n",
        "By selecting the right data structure for a problem, developers can significantly optimize the speed and efficiency of their algorithms.\n",
        "\n",
        "Better code readability:\n",
        "\n",
        "Well-chosen data structures can make code more intuitive and easier to understand by clearly representing relationships between data elements.\n",
        "\n",
        "Solving complex problems:\n",
        "\n",
        "Data structures are fundamental to tackling intricate computational challenges in various fields like graphics, networking, and database management.\n",
        "\n"
      ],
      "metadata": {
        "id": "EN4tWFWMIhx9"
      }
    },
    {
      "cell_type": "markdown",
      "source": [
        "2 > Explain the difference between mutable and immutable data types with examples.\n",
        "\n",
        "Ans >  Mutable data types can be changed after they are created, while immutable data types cannot.\n",
        "\n",
        "Examples of mutable data types\n",
        "\n",
        "  Lists: Can be changed by adding, removing, or updating elements\n",
        "\n",
        "  Dictionaries: Can be changed by modifying their values or data\n",
        "  Sets: Can be changed by modifying their values or data\n",
        "\n",
        "Examples of immutable data types\n",
        "\n",
        "  Strings: Cannot be changed after creation\n",
        "  Tuples: Cannot be changed after creation\n",
        "  Integers: Cannot be changed after creation\n",
        "  Floats: Cannot be changed after creation"
      ],
      "metadata": {
        "id": "hW52OBwWJStX"
      }
    },
    {
      "cell_type": "markdown",
      "source": [],
      "metadata": {
        "id": "M-lmICHoI4GI"
      }
    },
    {
      "cell_type": "markdown",
      "source": [
        "3 >   What are the main differences between lists and tuples in Python?\n",
        "\n",
        "Ans > The main difference between lists and tuples in Python is that lists are mutable, while tuples are immutable. This means that lists can be changed, but tuples cannot"
      ],
      "metadata": {
        "id": "3OOHR9ZHL2c3"
      }
    },
    {
      "cell_type": "markdown",
      "source": [
        "4 > Describe how dictionaries store data.\n",
        "\n",
        "Ans > Dictionaries are used to store data values in key:value pairs. A dictionary is a collection which is ordered,changeable and do not allow duplicates."
      ],
      "metadata": {
        "id": "9sDQJeffMHuJ"
      }
    },
    {
      "cell_type": "markdown",
      "source": [
        "5 > Why might you use a set instead of a list in Python.\n",
        "\n",
        "Ans > You might use a set instead of a list in Python when:\n",
        "\n",
        "1. Uniqueness is required Sets automatically remove duplicate values, ensuring that all elements are unique.\n",
        "\n",
        "\n",
        "2. Faster membership testing Checking if an item exists in a set (x in set) is much faster (O(1) average time complexity) than checking in a list (O(n) time complexity).\n",
        "\n",
        "\n",
        "3. Mathematical set operations  Sets support operations like union, intersection, and difference, making them useful for tasks like finding common or distinct elements between collections.\n",
        "\n",
        "\n",
        "4. Order doesn't matter If you don't need to maintain the order of elements, a set can be a more efficient choice than a list.\n",
        "\n",
        "\n",
        "5. Performance optimization When working with large datasets where duplicate removal or fast lookups are needed, sets can be significantly more efficient than lists.\n",
        "\n",
        "\n",
        "\n",
        "However, sets are unordered and do not allow indexing, so if you need an ordered collection or need to access elements by position, a list would be more appropriate."
      ],
      "metadata": {
        "id": "aAAhQArXMgrl"
      }
    },
    {
      "cell_type": "markdown",
      "source": [
        "6 >  What is a string in Python, and how is it different from a list?\n",
        "\n",
        "Ans > In Python, a string is an ordered sequence of characters enclosed in quotes (single or double), representing textual data, while a list is an ordered collection of elements (which can be of different data types like numbers, strings, etc.) enclosed in square brackets, and unlike strings, lists are mutable, meaning you can modify their contents after creation."
      ],
      "metadata": {
        "id": "JCsRXGpxOjLD"
      }
    },
    {
      "cell_type": "markdown",
      "source": [
        "7 > How do tuples ensure data integrity in Python?\n",
        "\n",
        "Ans > Tuples are immutable to ensure that their contents remain constant throughout their lifecycle, guaranteeing data integrity and reliability. This immutability allows tuples to be used as keys in dictionaries and elements in sets, as they can be hashed."
      ],
      "metadata": {
        "id": "I_cThcZp7MZE"
      }
    },
    {
      "cell_type": "markdown",
      "source": [
        "8 >  What is a hash table, and how does it relate to dictionaries in Python?\n",
        "\n",
        "Ans> In Python, a hash table is a data structure that implements a dictionary. A dictionary is a built-in data type that stores key-value pairs, where the keys are generated by a hash function.\n",
        "How does a hash table work?\n",
        "\n",
        "  A hash table uses a hash function to generate a unique index value for each data value\n",
        "  The data is stored in an array format, with each value having its own index\n",
        "  The index value is used to quickly access the data\n",
        "\n",
        "Why are hash tables a popular choice?\n",
        "\n",
        "  Hash tables are a popular choice because they perform well on average\n",
        "\n",
        "They are easy to use for data scientists to look up values\n",
        "\n",
        "How are hash tables used in Python?\n",
        "\n",
        "  Hash tables are used in Python to implement dictionaries\n",
        "\n",
        "Dictionaries are used to store key-value pairs, such as employee names and their IDs\n",
        "Dictionaries are also known as maps or associative arrays\n",
        "\n",
        "What operations can be performed on hash tables in Python? Accessing values, Updating values, and Deleting elements."
      ],
      "metadata": {
        "id": "Hh_wyQJ47h9a"
      }
    },
    {
      "cell_type": "markdown",
      "source": [
        "9->  Can lists contain different data types in Python?\n",
        "\n",
        "Ans-> Yes list can contain a mix of Python types including strings, floats, and booleans."
      ],
      "metadata": {
        "id": "DIrFFo2l79l9"
      }
    },
    {
      "cell_type": "markdown",
      "source": [
        "10->  Explain why strings are immutable in Python.\n",
        "\n",
        "Ans-> In Python, strings are immutable, meaning that once a string is created, it cannot be changed. Any operation that appears to modify a string actually creates a new string object.\n",
        "\n",
        "Reasons for String Immutability\n",
        "\n",
        "1. Efficiency in Memory Management\n",
        "\n",
        "Strings are widely used as keys in dictionaries and as data in sets. If strings were mutable, their hash values could change, making them unreliable for use as dictionary keys or set elements.\n",
        "\n",
        "Immutable strings allow Python to intern frequently used strings, saving memory by reusing existing string objects instead of creating duplicates.\n",
        "\n",
        "\n",
        "\n",
        "2. Thread Safety\n",
        "\n",
        "In a multi-threaded environment, immutable objects prevent race conditions since their values cannot change unexpectedly. This makes string handling safer in concurrent programs.\n",
        "\n",
        "\n",
        "\n",
        "3. Security & Integrity\n",
        "\n",
        "Strings are commonly used to store critical data like passwords, file paths, and URLs. If they were mutable, they could be altered unintentionally or maliciously, leading to security risks.\n",
        "\n",
        "\n",
        "\n",
        "4. Simplifies Code and Debugging\n",
        "\n",
        "Immutable objects reduce side effects and bugs because developers do not need to track unexpected changes in string values."
      ],
      "metadata": {
        "id": "qv7kGBgn8ZLB"
      }
    },
    {
      "cell_type": "markdown",
      "source": [
        "11-> What advantages do dictionaries offer over lists for certain tasks.\n",
        "\n",
        "Ans-> Dictionaries have several advantages over lists for tasks that require fast lookups, data organization, and efficient data access.\n",
        "Fast lookups\n",
        "\n",
        "  Dictionaries are faster than lists for finding a specific value because they use a hash table to store key-value pairs.\n",
        "  This makes dictionaries ideal for tasks that require frequent searches or lookups.\n",
        "\n",
        "Data organization\n",
        "\n",
        "  Dictionaries can help you organize data by categorizing it into key-value pairs.\n",
        "  This can make it easier to access relevant information in your programs.\n",
        "\n",
        "Efficient data access\n",
        "\n",
        "  Dictionaries are memory efficient because they only store the key-value pairs you need.\n",
        "  This makes them a good choice for storing large amounts of data.\n",
        "\n",
        "Code readability\n",
        "\n",
        "  Dictionaries can make code easier to read and maintain because they clearly outline the relationships between data elements.\n",
        "\n",
        "Flexibility\n",
        "\n",
        "  Dictionaries are flexible and can store any type of data as both the key and the value.\n",
        "  This makes them well-suited to a wide range of tasks.\n",
        "\n",
        "Data analysis and manipulation\n",
        "\n",
        "  Dictionaries can be used for data analysis, transformation, and processing tasks."
      ],
      "metadata": {
        "id": "Z6DW40eMFmby"
      }
    },
    {
      "cell_type": "markdown",
      "source": [
        "12- > Describe a scenario where using a tuple would be preferable over a list.\n",
        "\n",
        "Ans-> A tuple would be preferable over a list in a scenario where immutability is required to ensure data integrity.\n",
        "\n",
        "Example Scenario: Database Record Representation\n",
        "\n",
        "Imagine you are working with a database where each row represents a record, and you want to store retrieved records in a way that prevents accidental modification.\n",
        "\n",
        "Scenario:\n",
        "\n",
        "You are fetching user data from a database:\n",
        "\n",
        "def get_user():\n",
        "    return (101, \"Alice\", \"alice@example.com\", \"2025-01-31\")\n",
        "\n",
        "Here’s why a tuple is preferable over a list:\n",
        "\n",
        "1. Immutability: Prevents accidental modifications, ensuring data integrity.\n",
        "\n",
        "\n",
        "2. Performance: Tuples are slightly faster than lists, which is beneficial when working with large datasets.\n",
        "\n",
        "\n",
        "3. Hashability: Tuples can be used as dictionary keys, whereas lists cannot.\n",
        "\n",
        "\n",
        "\n",
        "Alternative with a List (Potential Issue)\n",
        "\n",
        "If you used a list:\n",
        "\n",
        "user = [101, \"Alice\", \"alice@example.com\", \"2025-01-31\"]\n",
        "user[1] = \"Bob\"  # This change is allowed, which may not be desirable\n",
        "\n",
        "Since a list allows modification, accidental changes could lead to data inconsistencies. A tuple ensures that once the record is retrieved, it remains unchanged.\n",
        "\n"
      ],
      "metadata": {
        "id": "X6pVxq3wcNue"
      }
    },
    {
      "cell_type": "markdown",
      "source": [
        "13 -> How do sets handle duplicate values in Python?\n",
        "\n",
        "Ans- > In Python, sets automatically eliminate duplicate values. A set is an unordered collection of unique elements, meaning that if you try to add duplicate values, they will be ignored.\n",
        "\n",
        "Example:\n",
        "\n",
        "Creating a set with duplicate values\n",
        "my_set = {1, 2, 2, 3, 4, 4, 5}\n",
        "\n",
        "print(my_set)  # Output: {1, 2, 3, 4, 5}\n",
        "\n",
        "Explanation:\n",
        "\n",
        "Even though 2 and 4 were added twice, the set stores only unique elements.\n",
        "\n",
        "Sets are implemented using hash tables, so each element is stored uniquely.\n",
        "\n",
        "\n",
        "Adding Elements:\n",
        "\n",
        "If you try to add a duplicate element using add(), Python will not include it again:\n",
        "\n",
        "my_set.add(3)\n",
        "print(my_set)  # Output: {1, 2, 3, 4, 5} (no change)\n",
        "\n",
        "If you need to store duplicates while maintaining order, consider using a list or collections.Counter instead of a set."
      ],
      "metadata": {
        "id": "g7xy-aJL2o0l"
      }
    },
    {
      "cell_type": "markdown",
      "source": [
        "14-> How does the “in” keyword work differently for lists and dictionaries.\n",
        "\n",
        "Ans-> The in keyword is used to check for membership in both lists and dictionaries, but it works differently in each case:\n",
        "\n",
        "1. in with Lists\n",
        "\n",
        "Checks if a specific element exists in the list.\n",
        "\n",
        "Searches through the list sequentially (linear search, O(n) time complexity).\n",
        "\n",
        "\n",
        "Example:\n",
        "\n",
        "my_list = [1, 2, 3, 4, 5]\n",
        "print(3 in my_list)  # True\n",
        "print(10 in my_list)  # False\n",
        "\n",
        "2. in with Dictionaries\n",
        "\n",
        "Checks if a key exists in the dictionary (not values).\n",
        "\n",
        "It is much faster than checking in a list because dictionary keys are stored in a hash table (average O(1) time complexity).\n",
        "\n",
        "\n",
        "Example:\n",
        "\n",
        "my_dict = {'a': 1, 'b': 2, 'c': 3}\n",
        "print('a' in my_dict)  # True\n",
        "print(1 in my_dict)  # False (values are not checked)\n",
        "\n",
        "Checking Values in a Dictionary\n",
        "\n",
        "If you want to check if a value exists in a dictionary, use:\n",
        "\n",
        "print(2 in my_dict.values())  # True\n",
        "\n",
        "Checking Key-Value Pairs\n",
        "\n",
        "If you want to check for a specific key-value pair:\n",
        "\n",
        "print(('b', 2) in my_dict.items())  # True"
      ],
      "metadata": {
        "id": "TfVTEpAg3aYq"
      }
    },
    {
      "cell_type": "markdown",
      "source": [
        "15-> Can you modify the elements of a tuple? Explain why or why not.\n",
        "\n",
        "Ans- > No, you cannot modify the elements of a tuple in Python because tuples are immutable. This means that once a tuple is created, its elements cannot be changed, added, or removed.\n",
        "\n",
        "Why are tuples immutable?\n",
        "\n",
        "1. Memory Efficiency: Since tuples are immutable, Python can optimize memory usage and performance by storing them in a more compact way.\n",
        "\n",
        "\n",
        "2. Hashability: Tuples can be used as dictionary keys or set elements because their content does not change, ensuring consistency.\n",
        "\n",
        "\n",
        "3. Data Integrity: Immutability helps prevent accidental modifications, making tuples useful for storing fixed collections of data.\n",
        "\n",
        "\n",
        "\n",
        "Can you modify elements inside a tuple indirectly?\n",
        "\n",
        "While the tuple itself cannot be modified, if it contains a mutable object (like a list), the contents of that mutable object can be changed.\n",
        "\n",
        "\n"
      ],
      "metadata": {
        "id": "s2NkBhvt4QUM"
      }
    },
    {
      "cell_type": "code",
      "source": [
        "Example:\n",
        "\n",
        "t = (1, 2, [3, 4])\n",
        "t[2].append(5)  # Modifying the list inside the tuple\n",
        "print(t)  # Output: (1, 2, [3, 4, 5])\n",
        "Here, the tuple t remains unchanged, but the list inside it is modified. However, replacing the list with another object (e.g., t[2] = [6, 7]) would raise an error."
      ],
      "metadata": {
        "id": "IfSIc3l36fuY"
      },
      "execution_count": null,
      "outputs": []
    },
    {
      "cell_type": "markdown",
      "source": [
        "16-> What is a nested dictionary, and give an example of its use case?\n",
        "\n",
        "Ans- >A nested dictionary is a data structure where a dictionary is used as a value within another dictionary, essentially creating multiple levels of key-value pairs within a single dictionary; this is useful for representing hierarchical data with multiple layers of organization, like storing employee details categorized by department in a company, where each department is a key in the main dictionary and its employees are key-value pairs within that department's nested dictionary.\n",
        "Example Use Case:\n",
        "\n",
        "  Storing product inventory:\n",
        "     A dictionary where the keys are product categories (like \"Electronics\", \"Clothing\", \"Food\") and the values are nested dictionaries containing individual product details (like \"product name\", \"price\", \"quantity\") within each category.\n",
        "\n",
        "Example Code (Python):\n"
      ],
      "metadata": {
        "id": "RP4Zne-O6sw4"
      }
    },
    {
      "cell_type": "code",
      "source": [
        "product_inventory = {\n",
        "\n",
        "    \"Electronics\": {\n",
        "\n",
        "        \"Laptop\": {\"price\": 1000, \"quantity\": 5},\n",
        "\n",
        "        \"Phone\": {\"price\": 500, \"quantity\": 10}\n",
        "\n",
        "    },\n",
        "\n",
        "    \"Clothing\": {\n",
        "\n",
        "        \"T-shirt\": {\"price\": 20, \"quantity\": 20},\n",
        "\n",
        "        \"Jeans\": {\"price\": 50, \"quantity\": 15}\n",
        "\n",
        "    }\n",
        "\n",
        "}\n",
        "\n",
        "\n",
        "\n",
        "print(product_inventory[\"Electronics\"][\"Laptop\"][\"price\"])  # Output: 1000\n"
      ],
      "metadata": {
        "id": "xxqdEyI57M5C"
      },
      "execution_count": null,
      "outputs": []
    },
    {
      "cell_type": "markdown",
      "source": [
        "\n",
        "Key points about nested dictionaries:\n",
        "\n",
        "Multiple levels of keys: You can access data by traversing through multiple key layers.\n",
        "\n",
        "Organizing complex data: They are particularly useful when dealing with data that has a hierarchical structure.\n",
        "JSON data representation: Nested dictionaries often mirror the structure of JSON data, making it easy to work with APIs that return complex data.\n"
      ],
      "metadata": {
        "id": "-H-Ruvt_7QCr"
      }
    },
    {
      "cell_type": "markdown",
      "source": [
        "17- > Describe the time complexity of accessing elements in a dictionary.\n",
        "\n",
        "Ans -> The time complexity of accessing an element in a Python dictionary is \\(O(1)\\), which means it's a constant time operation. This is because Python dictionaries use a hash table internally, which allows for fast lookups.\n",
        "Explanation    Dictionaries use a hash table to store key-value pairs.\n",
        "When you look up a key in a dictionary, the hash table generates a specific address for that key.\n",
        "The dictionary then goes to that address and processes the result.      \n",
        "The time complexity of other dictionary operations in Python also depends on the size of the dictionary and the operation being performed. For example, iterating over all the keys, values, or items in a dictionary is \\(O(n)\\), where \\(n\\) is the number of key-value pairs."
      ],
      "metadata": {
        "id": "H9gRz8ps7VnS"
      }
    },
    {
      "cell_type": "markdown",
      "source": [
        "18- > In what situations are lists preferred over dictionaries?\n",
        "\n",
        "Ans - > For quick data look-ups, configurations, or caches, favor dictionaries. For ordered collections and sequence operations, such as maintaining a stack or queue, lists are more suitable."
      ],
      "metadata": {
        "id": "6W25Yuow8Q82"
      }
    },
    {
      "cell_type": "markdown",
      "source": [
        "19- > Why are dictionaries considered unordered, and how does that affect data retrieval?\n",
        "\n",
        "Ans- Dictionaries in Python are considered unordered because, before Python 3.7, they did not maintain the order of key-value pairs as inserted. Instead, they were implemented as hash tables, meaning the order of elements depended on the internal hashing mechanism rather than insertion order.\n",
        "\n",
        "Effect on Data Retrieval:\n",
        "\n",
        "1. Unpredictable Order (Pre-Python 3.7): If you iterated over a dictionary, the order of keys might not match the insertion order, making it unreliable for ordered data structures.\n",
        "\n",
        "\n",
        "2. Constant-Time Lookups: Since dictionaries use a hash table, retrieving a value by its key is O(1) on average, making it extremely efficient.\n",
        "\n",
        "\n",
        "3. Order-Preserving in Python 3.7+: From Python 3.7 onward (officially guaranteed in Python 3.8), dictionaries maintain insertion order, meaning iterating over them follows the order of insertion.\n",
        "\n",
        "\n",
        "4. Key-Based Access: Since dictionaries use key-value mapping, data retrieval is done via keys, not positions (unlike lists).\n",
        "\n",
        "\n",
        "\n",
        "While Python dictionaries now retain order, they are still conceptually considered unordered because their primary structure is based on key hashing rather than positional indexing."
      ],
      "metadata": {
        "id": "9nJvFtHY8a9p"
      }
    },
    {
      "cell_type": "markdown",
      "source": [
        "20- >  Explain the difference between a list and a dictionary in terms of data retrieval.\n",
        "\n",
        "Ans - > A list retrieves data using its index position (numerical order), while a dictionary retrieves data using a unique key, allowing for direct access to specific values based on a label rather than their position in the collection; essentially, lists are ordered by index, while dictionaries are associated with keys making data retrieval faster when you need to look up information based on a specific identifier.\n",
        "Key points to remember:\n",
        "\n",
        "  List:\n",
        "  Access elements using an integer index (starting from 0).\n",
        "\n",
        "Ordered collection, meaning the order of elements matters.\n",
        "Example: my_list = [\"apple\", \"banana\", \"orange\"], to access \"banana\": my_list[1].\n",
        "\n",
        "Dictionary:\n",
        "\n",
        "  Access elements using a key (which can be a string, number, or other data type).\n",
        "\n",
        "Unordered collection, meaning the order of elements does not matter.\n",
        "Example: my_dict = {\"fruit\": \"apple\", \"color\": \"red\"}, to access \"apple\": my_dict[\"fruit\"].\n",
        "\n",
        "When to use which:\n",
        "\n",
        "  Use a list:\n",
        "  When you need to access data in a specific order, like iterating through a sequence of items.\n",
        "\n",
        "Use a dictionary:\n",
        "When you need to quickly retrieve data based on a unique identifier or label, like looking up information in a database using a key.\n"
      ],
      "metadata": {
        "id": "I4FnQy8M_IdH"
      }
    },
    {
      "cell_type": "markdown",
      "source": [
        "#Practical Questions"
      ],
      "metadata": {
        "id": "TENxO3z2_cHn"
      }
    },
    {
      "cell_type": "markdown",
      "source": [
        "1- >  Write a code to create a string with your name and print it.\n",
        "\n",
        "Ans ->Here's a simple Python code snippet to create a string with my name and print it:"
      ],
      "metadata": {
        "id": "wCmuDbi8_fIQ"
      }
    },
    {
      "cell_type": "code",
      "source": [
        "name=\"Prateek Upadhyay\"\n",
        "print(name)"
      ],
      "metadata": {
        "colab": {
          "base_uri": "https://localhost:8080/"
        },
        "id": "0gkRB2V_ACiw",
        "outputId": "363930ac-2f1f-4d08-92ce-c8a1182396da"
      },
      "execution_count": 1,
      "outputs": [
        {
          "output_type": "stream",
          "name": "stdout",
          "text": [
            "Prateek Upadhyay\n"
          ]
        }
      ]
    },
    {
      "cell_type": "markdown",
      "source": [
        "2- > Write a code to find the length of the string \"Hello World\".\n",
        "\n",
        "Ans- > We can use the len() function in Python to find the length of the string \"Hello World\":"
      ],
      "metadata": {
        "id": "HcEJj1QSAkeL"
      }
    },
    {
      "cell_type": "code",
      "source": [
        "string=\"Hello World\"\n",
        "print(len(string))"
      ],
      "metadata": {
        "colab": {
          "base_uri": "https://localhost:8080/"
        },
        "id": "Yu74h8g6BAQP",
        "outputId": "c9d15ab4-e4e8-45f0-b6c3-8ee35af9b992"
      },
      "execution_count": 2,
      "outputs": [
        {
          "output_type": "stream",
          "name": "stdout",
          "text": [
            "11\n"
          ]
        }
      ]
    },
    {
      "cell_type": "markdown",
      "source": [
        "3- > Write a code to slice the first 3 characters from the string \"Python Programming\".\n",
        "\n",
        "Ans- We can use Python's slicing feature to extract the first three characters from the string \"Python Programming\" like this:"
      ],
      "metadata": {
        "id": "ndPhNNdXBPnf"
      }
    },
    {
      "cell_type": "code",
      "source": [
        "text = \"Python Programming\"\n",
        "print(text[:3])"
      ],
      "metadata": {
        "colab": {
          "base_uri": "https://localhost:8080/"
        },
        "id": "cjNXFzg4B8V-",
        "outputId": "6d322fbe-235c-46ae-d7a2-b1e90cae265a"
      },
      "execution_count": 5,
      "outputs": [
        {
          "output_type": "stream",
          "name": "stdout",
          "text": [
            "Pyt\n"
          ]
        }
      ]
    },
    {
      "cell_type": "markdown",
      "source": [
        "4-> Write a code to convert the string \"hello\" to uppercase.\n",
        "\n",
        "Ans -> Here is a simple Python code snippet to convert the string \"hello\" to uppercase:"
      ],
      "metadata": {
        "id": "SXA7bZegCk15"
      }
    },
    {
      "cell_type": "code",
      "source": [
        "text = \"hello\"\n",
        "print(text.upper())"
      ],
      "metadata": {
        "colab": {
          "base_uri": "https://localhost:8080/"
        },
        "id": "Pb2sn9dzDHEG",
        "outputId": "04ac69ac-9678-4450-a928-7bd780f4c181"
      },
      "execution_count": 6,
      "outputs": [
        {
          "output_type": "stream",
          "name": "stdout",
          "text": [
            "HELLO\n"
          ]
        }
      ]
    },
    {
      "cell_type": "markdown",
      "source": [
        "5 - > Write a code to replace the word \"apple\" with \"orange\" in the string \"I like apple\".\n",
        "\n",
        "Ans -> You can use Python's str.replace() method to replace \"apple\" with \"orange\" in the given string. Here's the code."
      ],
      "metadata": {
        "id": "kIpmvx4RDVqY"
      }
    },
    {
      "cell_type": "code",
      "source": [
        "text = \"I like apple\"\n",
        "new_text = text.replace(\"apple\", \"orange\")\n",
        "print(new_text)"
      ],
      "metadata": {
        "colab": {
          "base_uri": "https://localhost:8080/"
        },
        "id": "KVdh6iZGD7C4",
        "outputId": "2e9cd1f3-d8a9-4708-ec64-cae2907eef10"
      },
      "execution_count": 7,
      "outputs": [
        {
          "output_type": "stream",
          "name": "stdout",
          "text": [
            "I like orange\n"
          ]
        }
      ]
    },
    {
      "cell_type": "markdown",
      "source": [
        "6 - > Write a code to create a list with numbers 1 to 5 and print it.\n",
        "\n",
        "Ans -> Here is a simple Python code to create a list with numbers 1 to 5 and print it:"
      ],
      "metadata": {
        "id": "KFWRYLmHFqNC"
      }
    },
    {
      "cell_type": "code",
      "source": [
        "numbers = [1, 2, 3, 4, 5]\n",
        "print(numbers)"
      ],
      "metadata": {
        "colab": {
          "base_uri": "https://localhost:8080/"
        },
        "id": "rbXTES8TN9k_",
        "outputId": "593c6e44-c81a-4a35-b579-5d62ddb48fb7"
      },
      "execution_count": 8,
      "outputs": [
        {
          "output_type": "stream",
          "name": "stdout",
          "text": [
            "[1, 2, 3, 4, 5]\n"
          ]
        }
      ]
    },
    {
      "cell_type": "markdown",
      "source": [
        "7- > Write a code to append the number 10 to the list     [1, 2, 3, 4].\n",
        "\n",
        "Ans - > Here is a simple Python code to append the number 10 to the list.\n"
      ],
      "metadata": {
        "id": "j_ySixOEOMzf"
      }
    },
    {
      "cell_type": "code",
      "source": [
        "numbers = [1, 2, 3, 4]\n",
        "numbers.append(10)\n",
        "print(numbers)"
      ],
      "metadata": {
        "colab": {
          "base_uri": "https://localhost:8080/"
        },
        "id": "kkG1yobHOntv",
        "outputId": "247bc8ca-30f4-4401-ba23-bc5418588e3d"
      },
      "execution_count": 11,
      "outputs": [
        {
          "output_type": "stream",
          "name": "stdout",
          "text": [
            "[1, 2, 3, 4, 10]\n"
          ]
        }
      ]
    },
    {
      "cell_type": "markdown",
      "source": [
        "8 - > Write a code to remove the number 3 from the list [1, 2, 3, 4, 5].\n",
        "\n",
        "Ans -> Here is a simple Python code to remove the number 3 from the list."
      ],
      "metadata": {
        "id": "Ykh5dt13PCsh"
      }
    },
    {
      "cell_type": "code",
      "source": [
        "numbers = [1, 2, 3, 4, 5]\n",
        "numbers.remove(3)\n",
        "print(numbers)"
      ],
      "metadata": {
        "colab": {
          "base_uri": "https://localhost:8080/"
        },
        "id": "hcOIGkUwPSZT",
        "outputId": "12ec49ae-ccd2-47c6-d6e4-6b2e0c4c1022"
      },
      "execution_count": 14,
      "outputs": [
        {
          "output_type": "stream",
          "name": "stdout",
          "text": [
            "[1, 2, 4, 5]\n"
          ]
        }
      ]
    },
    {
      "cell_type": "markdown",
      "source": [
        "9- >Write a code to access the second element in the list ['a', 'b', 'c', 'd'].\n",
        "\n",
        "Ans -> Here is a simple Python code to access the second element in the list."
      ],
      "metadata": {
        "id": "H5HCq0ShPycJ"
      }
    },
    {
      "cell_type": "code",
      "source": [
        "list= ['a', 'b', 'c', 'd']\n",
        "print(list[1])"
      ],
      "metadata": {
        "colab": {
          "base_uri": "https://localhost:8080/"
        },
        "id": "NaRwzp7EQAhY",
        "outputId": "f7cc7a75-c748-460a-d578-5b13e09de941"
      },
      "execution_count": 16,
      "outputs": [
        {
          "output_type": "stream",
          "name": "stdout",
          "text": [
            "b\n"
          ]
        }
      ]
    },
    {
      "cell_type": "markdown",
      "source": [
        "10- >  Write a code to reverse the list [10, 20, 30, 40, 50].\n",
        "\n",
        "Ans -> Here is a simple Python code to reverse the list [10, 20, 30, 40, 50]."
      ],
      "metadata": {
        "id": "yLMhn4uXQqWD"
      }
    },
    {
      "cell_type": "code",
      "source": [
        "my_list = [10, 20, 30, 40, 50]\n",
        "my_list.reverse()\n",
        "print(my_list)"
      ],
      "metadata": {
        "colab": {
          "base_uri": "https://localhost:8080/"
        },
        "id": "Y8EXHEjeRAVI",
        "outputId": "672c0c68-338d-4b1e-e8e9-fdacacb00c63"
      },
      "execution_count": 17,
      "outputs": [
        {
          "output_type": "stream",
          "name": "stdout",
          "text": [
            "[50, 40, 30, 20, 10]\n"
          ]
        }
      ]
    },
    {
      "cell_type": "markdown",
      "source": [
        "11- > . Write a code to create a tuple with the elements 100, 200, 300 and print it.\n",
        "\n",
        "Ans -> Here is a simple Python code to create a tuple with the elements 100, 200, 300.\n",
        "\n"
      ],
      "metadata": {
        "id": "Cmol8a5qRPP_"
      }
    },
    {
      "cell_type": "code",
      "source": [
        "my_tuple = (100, 200, 300)\n",
        "print(my_tuple)"
      ],
      "metadata": {
        "colab": {
          "base_uri": "https://localhost:8080/"
        },
        "id": "2-ynh_VRRqL5",
        "outputId": "3b4c4fc2-a48e-4d28-bc7c-3b8988dd4298"
      },
      "execution_count": 18,
      "outputs": [
        {
          "output_type": "stream",
          "name": "stdout",
          "text": [
            "(100, 200, 300)\n"
          ]
        }
      ]
    },
    {
      "cell_type": "markdown",
      "source": [
        "12 ->  Write a code to access the second-to-last element of the tuple ('red', 'green', 'blue', 'yellow').\n",
        "\n",
        "Ans -> Here is a simple Python code to access second-to-last element of the tuple ('red', 'green', 'blue', 'yellow')."
      ],
      "metadata": {
        "id": "Gw8QrMlaRvak"
      }
    },
    {
      "cell_type": "code",
      "source": [
        "colors = ('red', 'green', 'blue', 'yellow')\n",
        "print(colors[-2])"
      ],
      "metadata": {
        "colab": {
          "base_uri": "https://localhost:8080/"
        },
        "id": "sHRyZ3pK8V6e",
        "outputId": "9fd82062-e27b-4d7e-c757-ed9317cd8458"
      },
      "execution_count": 1,
      "outputs": [
        {
          "output_type": "stream",
          "name": "stdout",
          "text": [
            "blue\n"
          ]
        }
      ]
    },
    {
      "cell_type": "markdown",
      "source": [
        "13 ->  Write a code to find the minimum number in the tuple (10, 20, 5, 15).\n",
        "\n",
        "Ans -> Here is a simple Python code to access minimum number in the tuple (10, 20, 5, 15)."
      ],
      "metadata": {
        "id": "hL94p21g8mYH"
      }
    },
    {
      "cell_type": "code",
      "source": [
        "tuple = (10, 20, 5, 15)\n",
        "print(min(tuple))"
      ],
      "metadata": {
        "colab": {
          "base_uri": "https://localhost:8080/"
        },
        "id": "qxZEvsJL8zJP",
        "outputId": "45356228-c0a0-4d9a-8305-f7c368ba4435"
      },
      "execution_count": 2,
      "outputs": [
        {
          "output_type": "stream",
          "name": "stdout",
          "text": [
            "5\n"
          ]
        }
      ]
    },
    {
      "cell_type": "markdown",
      "source": [
        "14->  Write a code to find the index of the element \"cat\" in the tuple ('dog', 'cat', 'rabbit').\n",
        "\n",
        "Ans- > Here is a simple Python code to find the index of the element \"cat\" in the tuple ('dog', 'cat', 'rabbit')."
      ],
      "metadata": {
        "id": "7xdauGm49D4Y"
      }
    },
    {
      "cell_type": "code",
      "source": [
        "tuple = ('dog', 'cat', 'rabbit')\n",
        "print(tuple.index('cat'))"
      ],
      "metadata": {
        "colab": {
          "base_uri": "https://localhost:8080/"
        },
        "id": "pXzppeWM9O3L",
        "outputId": "f6da027b-38fc-44d2-9877-2b5fed23f82e"
      },
      "execution_count": 3,
      "outputs": [
        {
          "output_type": "stream",
          "name": "stdout",
          "text": [
            "1\n"
          ]
        }
      ]
    },
    {
      "cell_type": "markdown",
      "source": [
        "15 -> . Write a code to create a tuple containing three different fruits and check if \"kiwi\" is in it.\n",
        "\n",
        "Ans -> Here is a simple Python code to check if \"kiwi\" is in it."
      ],
      "metadata": {
        "id": "BCVT6ONW9Zyb"
      }
    },
    {
      "cell_type": "code",
      "source": [
        "tuple = (\"orange\",\"mango\",\"coconut\",\"banana\",\"kiwi\")\n",
        "print(\"kiwi\" in tuple)\n"
      ],
      "metadata": {
        "colab": {
          "base_uri": "https://localhost:8080/"
        },
        "id": "SFAO6eUy-00y",
        "outputId": "ef98f12d-63b4-4557-a93f-4224c88a95c2"
      },
      "execution_count": 5,
      "outputs": [
        {
          "output_type": "stream",
          "name": "stdout",
          "text": [
            "True\n"
          ]
        }
      ]
    },
    {
      "cell_type": "markdown",
      "source": [
        "16 ->  Write a code to create a set with the elements 'a', 'b', 'c' and print it.\n",
        "\n",
        "Ans -> Here is a simple Python code to create a set with the elements 'a', 'b', 'c' and print it."
      ],
      "metadata": {
        "id": "Pa3Tp_1LAq6g"
      }
    },
    {
      "cell_type": "code",
      "source": [
        "set = {'a', 'b', 'c'}\n",
        "print(set)"
      ],
      "metadata": {
        "colab": {
          "base_uri": "https://localhost:8080/"
        },
        "id": "TILFxln3BBPM",
        "outputId": "60305e2f-a57c-4241-cec2-b6c4c94b2b64"
      },
      "execution_count": 7,
      "outputs": [
        {
          "output_type": "stream",
          "name": "stdout",
          "text": [
            "{'a', 'c', 'b'}\n"
          ]
        }
      ]
    },
    {
      "cell_type": "markdown",
      "source": [
        "17- . Write a code to clear all elements from the set {1, 2, 3, 4, 5}.\n",
        "\n",
        "Ans -> Here is a simple Python code to clear all elements from the set {1, 2, 3, 4, 5}."
      ],
      "metadata": {
        "id": "BiBSpV3eBJrG"
      }
    },
    {
      "cell_type": "code",
      "source": [
        "set = {1, 2, 3, 4, 5}\n",
        "set.clear()\n",
        "print(set)"
      ],
      "metadata": {
        "colab": {
          "base_uri": "https://localhost:8080/"
        },
        "id": "B3QmUbJKBSs2",
        "outputId": "27fa9409-8e00-4c55-c015-53db24ed2fd4"
      },
      "execution_count": 8,
      "outputs": [
        {
          "output_type": "stream",
          "name": "stdout",
          "text": [
            "set()\n"
          ]
        }
      ]
    },
    {
      "cell_type": "markdown",
      "source": [
        "18- >  Write a code to remove the element 4 from the set {1, 2, 3, 4}\n",
        "\n",
        "Ans- >  Here is a simple Python code to remove the element 4 from the set {1, 2, 3, 4}."
      ],
      "metadata": {
        "id": "o79fUXMXBe-F"
      }
    },
    {
      "cell_type": "code",
      "source": [
        "set = {1, 2, 3, 4}\n",
        "set.remove(4)\n",
        "print(set)"
      ],
      "metadata": {
        "colab": {
          "base_uri": "https://localhost:8080/"
        },
        "id": "WMbY4imbBq4o",
        "outputId": "621f5c31-9370-4114-8ec7-786b653a3f67"
      },
      "execution_count": 10,
      "outputs": [
        {
          "output_type": "stream",
          "name": "stdout",
          "text": [
            "{1, 2, 3}\n"
          ]
        }
      ]
    },
    {
      "cell_type": "markdown",
      "source": [
        "19 ->  Write a code to find the union of two sets {1, 2, 3} and {3, 4, 5}.\n",
        "\n",
        "Ans-> Here is a simple Python code to find the union of two sets {1, 2, 3} and {3, 4, 5}."
      ],
      "metadata": {
        "id": "mq_sLfG0B1xb"
      }
    },
    {
      "cell_type": "code",
      "source": [
        "set1 = {1, 2, 3}\n",
        "set2 = {3, 4, 5}\n",
        "print(set1.union(set2))"
      ],
      "metadata": {
        "colab": {
          "base_uri": "https://localhost:8080/"
        },
        "id": "Kks3ZKdICDYX",
        "outputId": "6f80665c-c00e-4d53-bd8a-b7c368566b02"
      },
      "execution_count": 11,
      "outputs": [
        {
          "output_type": "stream",
          "name": "stdout",
          "text": [
            "{1, 2, 3, 4, 5}\n"
          ]
        }
      ]
    },
    {
      "cell_type": "markdown",
      "source": [
        "20 ->  Write a code to find the intersection of two sets {1, 2, 3} and {2, 3, 4}.\n",
        "\n",
        "Ans - > Here is a simple Python code to find the intersection of two sets {1, 2, 3} and {2, 3, 4}.\n",
        "\n"
      ],
      "metadata": {
        "id": "SGPCP4m1CMoX"
      }
    },
    {
      "cell_type": "code",
      "source": [
        "set1 = {1, 2, 3}\n",
        "set2 = {2, 3, 4}\n",
        "print(set1.intersection(set2))"
      ],
      "metadata": {
        "colab": {
          "base_uri": "https://localhost:8080/"
        },
        "id": "8Fh8pZ6GC0J6",
        "outputId": "4a32b316-27af-46df-b6ee-66ae5dbb1b05"
      },
      "execution_count": 12,
      "outputs": [
        {
          "output_type": "stream",
          "name": "stdout",
          "text": [
            "{2, 3}\n"
          ]
        }
      ]
    },
    {
      "cell_type": "markdown",
      "source": [
        "21 ->  Write a code to create a dictionary with the keys \"name\", \"age\", and \"city\", and print it.\n",
        "\n",
        "Ans -> Here is a simple Python code in dictionary with the keys \"name\", \"age\", and \"city\", and print it."
      ],
      "metadata": {
        "id": "GzBjqKAbC-Nh"
      }
    },
    {
      "cell_type": "code",
      "source": [
        "person = {\n",
        "    \"name\": \"Prateek Upadhyay\",\n",
        "    \"age\": 30,\n",
        "    \"city\": \"Uttar Pradesh\"\n",
        "}\n",
        "print(person)"
      ],
      "metadata": {
        "colab": {
          "base_uri": "https://localhost:8080/"
        },
        "id": "VrVvEUPqDO7u",
        "outputId": "adc5e1fa-914d-4cfa-f4f1-52b6c7cc9fc5"
      },
      "execution_count": 14,
      "outputs": [
        {
          "output_type": "stream",
          "name": "stdout",
          "text": [
            "{'name': 'Prateek Upadhyay', 'age': 30, 'city': 'Uttar Pradesh'}\n"
          ]
        }
      ]
    },
    {
      "cell_type": "markdown",
      "source": [
        "22->  Write a code to add a new key-value pair \"country\": \"USA\" to the dictionary {'name': 'John', 'age': 25}.\n",
        "\n",
        "Ans- > Here is a simple Python code add a new key-value pair \"country\": \"USA\" to the dictionary {'name': 'John', 'age': 25}.\n"
      ],
      "metadata": {
        "id": "O0lnSgEND8Xj"
      }
    },
    {
      "cell_type": "code",
      "source": [
        "person = {'name': 'John', 'age': 25}\n",
        "person['country'] = 'USA'\n",
        "print(person)"
      ],
      "metadata": {
        "colab": {
          "base_uri": "https://localhost:8080/"
        },
        "id": "N0kYTnAfENAP",
        "outputId": "9d7c6934-6019-4820-80b1-39496bb5ad2d"
      },
      "execution_count": 16,
      "outputs": [
        {
          "output_type": "stream",
          "name": "stdout",
          "text": [
            "{'name': 'John', 'age': 25, 'country': 'USA'}\n"
          ]
        }
      ]
    },
    {
      "cell_type": "markdown",
      "source": [
        "23->  Write a code to access the value associated with the key \"name\" in the dictionary {'name': 'Alice', 'age': 30}.\n",
        "\n",
        "Ans ->  Here is a simple Python code to access the value associated with the key \"name\" in the dictionary {'name': 'Alice', 'age':30}"
      ],
      "metadata": {
        "id": "L7ffxodjFKis"
      }
    },
    {
      "cell_type": "code",
      "source": [
        "person = {'name': 'Alice', 'age': 30}\n",
        "print(person['name'])"
      ],
      "metadata": {
        "colab": {
          "base_uri": "https://localhost:8080/"
        },
        "id": "dhnyS7K8Fg0q",
        "outputId": "0a5a3950-954c-48bb-fc38-f3b52c279c10"
      },
      "execution_count": 17,
      "outputs": [
        {
          "output_type": "stream",
          "name": "stdout",
          "text": [
            "Alice\n"
          ]
        }
      ]
    },
    {
      "cell_type": "markdown",
      "source": [
        "24 -> Write a code to remove the key \"age\" from the dictionary {'name': 'Bob', 'age': 22, 'city': 'New York'}\n",
        "\n",
        "Ans- > Here is a simple Python code to remove the key \"age\" from the dictionary {'name': 'Bob', 'age': 22, 'city': 'New York'}"
      ],
      "metadata": {
        "id": "5iaOX-f1F-jY"
      }
    },
    {
      "cell_type": "code",
      "source": [
        "person = {'name': 'Bob', 'age': 22, 'city': 'New York'}\n",
        "del person['age']\n",
        "print(person)"
      ],
      "metadata": {
        "colab": {
          "base_uri": "https://localhost:8080/"
        },
        "id": "HE7hyZb0OOUb",
        "outputId": "bc9d5878-29ce-494f-9f1d-542f75436963"
      },
      "execution_count": 19,
      "outputs": [
        {
          "output_type": "stream",
          "name": "stdout",
          "text": [
            "{'name': 'Bob', 'city': 'New York'}\n"
          ]
        }
      ]
    },
    {
      "cell_type": "markdown",
      "source": [
        "25-> Write a code to check if the key \"city\" exists in the dictionary {'name': 'Alice', 'city': 'Paris'}\n",
        "\n",
        "Ans- > Here is a simple Python code to check if the key \"city\" exists in the dictionary {'name': 'Alice', 'city': 'Paris'}\n"
      ],
      "metadata": {
        "id": "Yt2-8iuEOhnO"
      }
    },
    {
      "cell_type": "code",
      "source": [
        "person = {'name': 'Alice', 'city': 'Paris'}\n",
        "print('city' in person)"
      ],
      "metadata": {
        "colab": {
          "base_uri": "https://localhost:8080/"
        },
        "id": "Ovf2I2OsOx04",
        "outputId": "c985baf5-e99f-4a8e-a5d5-4d364bf01da1"
      },
      "execution_count": 20,
      "outputs": [
        {
          "output_type": "stream",
          "name": "stdout",
          "text": [
            "True\n"
          ]
        }
      ]
    },
    {
      "cell_type": "markdown",
      "source": [
        "26 -> Write a code to create a list, a tuple, and a dictionary, and print them all.\n",
        "\n",
        "Ans ->  Here is a simple Python code to create a list, a tuple, and a dictionary, and print them all."
      ],
      "metadata": {
        "id": "hXyvj_F8O8HB"
      }
    },
    {
      "cell_type": "code",
      "source": [
        "# Creating a list\n",
        "my_list = [1, 2, 3, 4, 5]\n",
        "\n",
        "# Creating a tuple\n",
        "my_tuple = (10, 20, 30, 40, 50)\n",
        "\n",
        "# Creating a dictionary\n",
        "my_dict = {\"name\": \"Alice\", \"age\": 25, \"city\": \"New York\"}\n",
        "\n",
        "# Printing the list, tuple, and dictionary\n",
        "print(\"List:\", my_list)\n",
        "print(\"Tuple:\", my_tuple)\n",
        "print(\"Dictionary:\", my_dict)"
      ],
      "metadata": {
        "colab": {
          "base_uri": "https://localhost:8080/"
        },
        "id": "rmOKzkbYPM2P",
        "outputId": "2b1f4c7f-2b67-4511-e5e8-a5797fdeda10"
      },
      "execution_count": 21,
      "outputs": [
        {
          "output_type": "stream",
          "name": "stdout",
          "text": [
            "List: [1, 2, 3, 4, 5]\n",
            "Tuple: (10, 20, 30, 40, 50)\n",
            "Dictionary: {'name': 'Alice', 'age': 25, 'city': 'New York'}\n"
          ]
        }
      ]
    },
    {
      "cell_type": "markdown",
      "source": [
        "27 -> Write a code to create a list of 5 random numbers between 1 and 100, sort it in ascending order, and print the\n",
        "result.\n",
        "\n",
        "Ans - > Here is a simple Python code to create a list of 5 random numbers between 1 and 100, sort it in ascending order, and print the result."
      ],
      "metadata": {
        "id": "Q2PdFhLBPlA_"
      }
    },
    {
      "cell_type": "code",
      "source": [
        "import random\n",
        "# generate a list of five random numbers between 1 and 100\n",
        "random_numbers = [random.randint(1, 100) for _ in range(5)]\n",
        "\n",
        "# sort the list in ascending order\n",
        "random_numbers.sort()\n",
        "\n",
        "# print the sorted list\n",
        "print(random_numbers)"
      ],
      "metadata": {
        "colab": {
          "base_uri": "https://localhost:8080/"
        },
        "id": "Zcv_9gkQP6mI",
        "outputId": "3f7ef9ee-a64d-4df3-c8e6-81365597abaa"
      },
      "execution_count": 22,
      "outputs": [
        {
          "output_type": "stream",
          "name": "stdout",
          "text": [
            "[28, 42, 71, 77, 78]\n"
          ]
        }
      ]
    },
    {
      "cell_type": "markdown",
      "source": [
        "28 ->  Write a code to create a list with strings and print the element at the third index.\n",
        "\n",
        "Ans -> Here is a simple Python code to create a list with strings and print the element at the third index."
      ],
      "metadata": {
        "id": "zYoGOseAQqpk"
      }
    },
    {
      "cell_type": "code",
      "source": [
        "# Create a list with strings\n",
        "my_list = [\"apple\", \"banana\", \"cherry\", \"orange\", \"elderberry\"]\n",
        "\n",
        "# Print the element at the third index (4th element in the list)\n",
        "print(my_list[3])"
      ],
      "metadata": {
        "colab": {
          "base_uri": "https://localhost:8080/"
        },
        "id": "5W4USybHQ5ra",
        "outputId": "98f75132-0f49-4a18-edc9-62cda0cf4065"
      },
      "execution_count": 23,
      "outputs": [
        {
          "output_type": "stream",
          "name": "stdout",
          "text": [
            "orange\n"
          ]
        }
      ]
    },
    {
      "cell_type": "markdown",
      "source": [
        "29 -> Write a code to combine two dictionaries into one and print the result.\n",
        "\n",
        "Ans- > Here is a simple Python code to combine two dictionaries into one and print the result.\n"
      ],
      "metadata": {
        "id": "idB4NcDTReiP"
      }
    },
    {
      "cell_type": "code",
      "source": [
        "dict1 = {'a': 1, 'b': 2}\n",
        "dict2 = {'c': 3, 'd': 4}\n",
        "\n",
        "combined_dict = dict1.copy()\n",
        "combined_dict.update(dict2)\n",
        "\n",
        "print(combined_dict)"
      ],
      "metadata": {
        "colab": {
          "base_uri": "https://localhost:8080/"
        },
        "id": "VPNk2QqCR-bj",
        "outputId": "71b88143-bcfa-4857-d242-e09bc261da67"
      },
      "execution_count": 24,
      "outputs": [
        {
          "output_type": "stream",
          "name": "stdout",
          "text": [
            "{'a': 1, 'b': 2, 'c': 3, 'd': 4}\n"
          ]
        }
      ]
    },
    {
      "cell_type": "code",
      "source": [
        "dict1 = {'a': 1, 'b': 2}\n",
        "dict2 = {'c': 3, 'd': 4}\n",
        "\n",
        "combined_dict = {**dict1, **dict2}\n",
        "\n",
        "print(combined_dict)"
      ],
      "metadata": {
        "colab": {
          "base_uri": "https://localhost:8080/"
        },
        "id": "IMoMl08SSSar",
        "outputId": "53c04420-e1f5-4430-c76c-5cf9c5580595"
      },
      "execution_count": 27,
      "outputs": [
        {
          "output_type": "stream",
          "name": "stdout",
          "text": [
            "{'a': 1, 'b': 2, 'c': 3, 'd': 4}\n"
          ]
        }
      ]
    },
    {
      "cell_type": "markdown",
      "source": [
        "30 -> Write a code to convert a list of strings into a set.\n",
        "\n",
        "Ans - > Here is a simple Python code to convert a list of strings into a set."
      ],
      "metadata": {
        "id": "7IVp-ECdS1An"
      }
    },
    {
      "cell_type": "code",
      "source": [
        "# Sample list of strings\n",
        "string_list = [\"apple\", \"banana\", \"cherry\", \"apple\", \"banana\"]\n",
        "\n",
        "# Delete the 'set' variable to restore the built-in function\n",
        "del set\n",
        "\n",
        "# Convert list to set using the built-in function\n",
        "string_set = set(string_list)\n",
        "\n",
        "# Print the resulting set\n",
        "print(string_set)"
      ],
      "metadata": {
        "colab": {
          "base_uri": "https://localhost:8080/"
        },
        "id": "rbMaaJMvUl1H",
        "outputId": "80d59fc6-6b21-4641-8a42-ca57cdbdaa2c"
      },
      "execution_count": 34,
      "outputs": [
        {
          "output_type": "stream",
          "name": "stdout",
          "text": [
            "{'cherry', 'banana', 'apple'}\n"
          ]
        }
      ]
    },
    {
      "cell_type": "code",
      "source": [
        "type(string_set)"
      ],
      "metadata": {
        "colab": {
          "base_uri": "https://localhost:8080/"
        },
        "id": "LMUDcMjkUwy7",
        "outputId": "c8d1c660-855b-4468-f361-d1d962576640"
      },
      "execution_count": 35,
      "outputs": [
        {
          "output_type": "execute_result",
          "data": {
            "text/plain": [
              "set"
            ]
          },
          "metadata": {},
          "execution_count": 35
        }
      ]
    }
  ]
}